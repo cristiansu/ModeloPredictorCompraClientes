{
 "cells": [
  {
   "cell_type": "code",
   "execution_count": 1,
   "id": "c1922212",
   "metadata": {},
   "outputs": [],
   "source": [
    "import pandas as pd\n",
    "import numpy as np\n",
    "import matplotlib.pyplot as plt\n",
    "import seaborn as sns"
   ]
  },
  {
   "cell_type": "markdown",
   "id": "1b659a3f",
   "metadata": {},
   "source": [
    "# Dataset 2: Bank_Full\n",
    "\n",
    "Bajado desde kaggle: https://www.kaggle.com/datasets/hariharanpavan/bank-marketing-dataset-analysis-classification"
   ]
  },
  {
   "cell_type": "code",
   "execution_count": 2,
   "id": "b6d6e3b3",
   "metadata": {},
   "outputs": [
    {
     "name": "stderr",
     "output_type": "stream",
     "text": [
      "C:\\Users\\saave\\AppData\\Local\\Temp\\ipykernel_3156\\653638877.py:1: FutureWarning: The error_bad_lines argument has been deprecated and will be removed in a future version. Use on_bad_lines in the future.\n",
      "\n",
      "\n",
      "  df=pd.read_csv('bank-full.csv', error_bad_lines=False, sep=';')\n"
     ]
    },
    {
     "data": {
      "text/html": [
       "<div>\n",
       "<style scoped>\n",
       "    .dataframe tbody tr th:only-of-type {\n",
       "        vertical-align: middle;\n",
       "    }\n",
       "\n",
       "    .dataframe tbody tr th {\n",
       "        vertical-align: top;\n",
       "    }\n",
       "\n",
       "    .dataframe thead th {\n",
       "        text-align: right;\n",
       "    }\n",
       "</style>\n",
       "<table border=\"1\" class=\"dataframe\">\n",
       "  <thead>\n",
       "    <tr style=\"text-align: right;\">\n",
       "      <th></th>\n",
       "      <th>age</th>\n",
       "      <th>job</th>\n",
       "      <th>marital</th>\n",
       "      <th>education</th>\n",
       "      <th>default</th>\n",
       "      <th>balance</th>\n",
       "      <th>housing</th>\n",
       "      <th>loan</th>\n",
       "      <th>contact</th>\n",
       "      <th>day</th>\n",
       "      <th>month</th>\n",
       "      <th>duration</th>\n",
       "      <th>campaign</th>\n",
       "      <th>pdays</th>\n",
       "      <th>previous</th>\n",
       "      <th>poutcome</th>\n",
       "      <th>y</th>\n",
       "    </tr>\n",
       "  </thead>\n",
       "  <tbody>\n",
       "    <tr>\n",
       "      <th>0</th>\n",
       "      <td>58</td>\n",
       "      <td>management</td>\n",
       "      <td>married</td>\n",
       "      <td>tertiary</td>\n",
       "      <td>no</td>\n",
       "      <td>2143</td>\n",
       "      <td>yes</td>\n",
       "      <td>no</td>\n",
       "      <td>unknown</td>\n",
       "      <td>5</td>\n",
       "      <td>may</td>\n",
       "      <td>261</td>\n",
       "      <td>1</td>\n",
       "      <td>-1</td>\n",
       "      <td>0</td>\n",
       "      <td>unknown</td>\n",
       "      <td>no</td>\n",
       "    </tr>\n",
       "    <tr>\n",
       "      <th>1</th>\n",
       "      <td>44</td>\n",
       "      <td>technician</td>\n",
       "      <td>single</td>\n",
       "      <td>secondary</td>\n",
       "      <td>no</td>\n",
       "      <td>29</td>\n",
       "      <td>yes</td>\n",
       "      <td>no</td>\n",
       "      <td>unknown</td>\n",
       "      <td>5</td>\n",
       "      <td>may</td>\n",
       "      <td>151</td>\n",
       "      <td>1</td>\n",
       "      <td>-1</td>\n",
       "      <td>0</td>\n",
       "      <td>unknown</td>\n",
       "      <td>no</td>\n",
       "    </tr>\n",
       "    <tr>\n",
       "      <th>2</th>\n",
       "      <td>33</td>\n",
       "      <td>entrepreneur</td>\n",
       "      <td>married</td>\n",
       "      <td>secondary</td>\n",
       "      <td>no</td>\n",
       "      <td>2</td>\n",
       "      <td>yes</td>\n",
       "      <td>yes</td>\n",
       "      <td>unknown</td>\n",
       "      <td>5</td>\n",
       "      <td>may</td>\n",
       "      <td>76</td>\n",
       "      <td>1</td>\n",
       "      <td>-1</td>\n",
       "      <td>0</td>\n",
       "      <td>unknown</td>\n",
       "      <td>no</td>\n",
       "    </tr>\n",
       "    <tr>\n",
       "      <th>3</th>\n",
       "      <td>47</td>\n",
       "      <td>blue-collar</td>\n",
       "      <td>married</td>\n",
       "      <td>unknown</td>\n",
       "      <td>no</td>\n",
       "      <td>1506</td>\n",
       "      <td>yes</td>\n",
       "      <td>no</td>\n",
       "      <td>unknown</td>\n",
       "      <td>5</td>\n",
       "      <td>may</td>\n",
       "      <td>92</td>\n",
       "      <td>1</td>\n",
       "      <td>-1</td>\n",
       "      <td>0</td>\n",
       "      <td>unknown</td>\n",
       "      <td>no</td>\n",
       "    </tr>\n",
       "    <tr>\n",
       "      <th>4</th>\n",
       "      <td>33</td>\n",
       "      <td>unknown</td>\n",
       "      <td>single</td>\n",
       "      <td>unknown</td>\n",
       "      <td>no</td>\n",
       "      <td>1</td>\n",
       "      <td>no</td>\n",
       "      <td>no</td>\n",
       "      <td>unknown</td>\n",
       "      <td>5</td>\n",
       "      <td>may</td>\n",
       "      <td>198</td>\n",
       "      <td>1</td>\n",
       "      <td>-1</td>\n",
       "      <td>0</td>\n",
       "      <td>unknown</td>\n",
       "      <td>no</td>\n",
       "    </tr>\n",
       "  </tbody>\n",
       "</table>\n",
       "</div>"
      ],
      "text/plain": [
       "   age           job  marital  education default  balance housing loan  \\\n",
       "0   58    management  married   tertiary      no     2143     yes   no   \n",
       "1   44    technician   single  secondary      no       29     yes   no   \n",
       "2   33  entrepreneur  married  secondary      no        2     yes  yes   \n",
       "3   47   blue-collar  married    unknown      no     1506     yes   no   \n",
       "4   33       unknown   single    unknown      no        1      no   no   \n",
       "\n",
       "   contact  day month  duration  campaign  pdays  previous poutcome   y  \n",
       "0  unknown    5   may       261         1     -1         0  unknown  no  \n",
       "1  unknown    5   may       151         1     -1         0  unknown  no  \n",
       "2  unknown    5   may        76         1     -1         0  unknown  no  \n",
       "3  unknown    5   may        92         1     -1         0  unknown  no  \n",
       "4  unknown    5   may       198         1     -1         0  unknown  no  "
      ]
     },
     "execution_count": 2,
     "metadata": {},
     "output_type": "execute_result"
    }
   ],
   "source": [
    "df=pd.read_csv('bank-full.csv', error_bad_lines=False, sep=';')\n",
    "df.head()"
   ]
  },
  {
   "cell_type": "markdown",
   "id": "4d9f1c8b",
   "metadata": {},
   "source": [
    "## Abstract\n",
    "\n",
    "Los datos están relacionados con campañas de marketing directo (llamadas telefónicas) de una entidad bancaria portuguesa. Las campañas de marketing se basaron en llamadas telefónicas. A menudo, se requería más de un contacto con el mismo cliente, para poder acceder si el producto (depósito bancario a plazo) estaría ('sí') o no ('no') suscrito, esto representado en la columna 'y' de la data.\n",
    "\n",
    "#### Resumen de los atributos:\n",
    "\n",
    "* Edad Edad del cliente\n",
    "* Trabajo Trabajo del cliente\n",
    "* Marcial Estado marcial del cliente\n",
    "* Educación Nivel de educación del cliente\n",
    "* Incumplimiento ¿Tiene el crédito en incumplimiento?\n",
    "* Vivienda Si el cliente tiene préstamo de vivienda\n",
    "* Préstamo Tiene Préstamo Personal\n",
    "* Saldo Saldo individual del cliente\n",
    "* Contacto Tipo de comunicación\n",
    "* Mes Último contacto mes del año\n",
    "* Día Último día de contacto de la semana\n",
    "* Duración Duración del último contacto, en segundos\n",
    "* Campaña Número de contactos realizados durante esta campaña y para este cliente\n",
    "* Pdays Número de días que transcurrieron desde la última vez que se contactó al cliente de una campaña anterior\n",
    "* Anterior Número de contactos realizados antes de esta campaña y para este cliente\n",
    "* Poutcome resultado de la campaña de marketing anterior\n",
    "\n",
    "#### Preguntas ------- Parte 1\n",
    "\n",
    "* Cuál es la eficiencia de la campaña?\n",
    "* Los saldos en las cuentas de los clientes tienen relación con el éxito de la campaña?\n",
    "* La edad de los clientes tiene relación con éxito de la campaña?\n",
    "* El tiempo de las llamadas tiene relación con el éxito de la campaña?\n",
    "\n",
    "#### Preguntas ------- Parte 2\n",
    "\n",
    "* La posesión de un préstamo para vivienda tiene relación con éxito de la campaña?\n",
    "* El estado civil del cliente tiene relación con éxito de la campaña?\n",
    "* Que el cliente tenga inclumimiento en su crédito tiene relación con éxito de la campaña?\n",
    "\n",
    "#### Hipótesis\n",
    "\n",
    "Las variables con mayor incidencia en el éxito de la campaña son:\n",
    "\n",
    "* Tiempo de llamadas\n",
    "* Cantidad de llamadas, más de 2\n",
    "* Saldo en cuenta mayor a 733 (balance)\n",
    "* Clientes que no posean inclumplimientos en sus prestamos (default)\n",
    "\n",
    "#### Recomendaciones Preliminares (sujetas a posteriores validaciones)\n",
    "\n",
    "Para mejorar la eficiencia de la campaña (actual 12%):\n",
    "\n",
    "Segmentar y priorizar clientes con características que la data identifica como mayor potencial de contratar el servicio. Ejemplo:\n",
    "\n",
    "* Clientes con saldos (balance) mayores a 733.\n",
    "* Clientes sin incumplimientos en sus préstamos (default)\n",
    "* Clientes con estado civil casado\n",
    "* Clientes sin prestamo de vivienda (housing)\n",
    "\n",
    "Sobre las llamadas:\n",
    "\n",
    "* Considerar que probabilidad de éxito aumenta cuando se hacen 2 a 3 llamadas al cliente\n",
    "* La probabilidad aumenta cuando el tiempo de llamada supera los 426 seg"
   ]
  },
  {
   "cell_type": "markdown",
   "id": "b91365eb",
   "metadata": {},
   "source": [
    "## Gráficas e Interpretaciones"
   ]
  },
  {
   "cell_type": "markdown",
   "id": "8d7890b9",
   "metadata": {},
   "source": [
    "### Visualización de: Edad - Balance (saldo en cuenta) - duración (tiempo llamada)"
   ]
  },
  {
   "cell_type": "code",
   "execution_count": 3,
   "id": "8438d377",
   "metadata": {},
   "outputs": [
    {
     "data": {
      "image/png": "[encoded data removed]",
      "text/plain": [
       "<Figure size 1080x576 with 3 Axes>"
      ]
     },
     "metadata": {
      "needs_background": "light"
     },
     "output_type": "display_data"
    }
   ],
   "source": [
    "columnas=['age', 'balance', 'duration']\n",
    "\n",
    "plt.figure(figsize=(15,8))\n",
    "i=1\n",
    "for j in range(len(columnas)):\n",
    "    plt.subplot(1,len(columnas),i, xlabel=columnas[j])\n",
    "    plt.boxplot(df[columnas[j]])\n",
    "    plt.title(columnas[j], loc='left')\n",
    "    i +=1\n",
    "plt.show()"
   ]
  },
  {
   "cell_type": "code",
   "execution_count": 4,
   "id": "0c6e2ef8",
   "metadata": {},
   "outputs": [
    {
     "data": {
      "text/html": [
       "<div>\n",
       "<style scoped>\n",
       "    .dataframe tbody tr th:only-of-type {\n",
       "        vertical-align: middle;\n",
       "    }\n",
       "\n",
       "    .dataframe tbody tr th {\n",
       "        vertical-align: top;\n",
       "    }\n",
       "\n",
       "    .dataframe thead th {\n",
       "        text-align: right;\n",
       "    }\n",
       "</style>\n",
       "<table border=\"1\" class=\"dataframe\">\n",
       "  <thead>\n",
       "    <tr style=\"text-align: right;\">\n",
       "      <th></th>\n",
       "      <th>age</th>\n",
       "      <th>balance</th>\n",
       "      <th>duration</th>\n",
       "    </tr>\n",
       "  </thead>\n",
       "  <tbody>\n",
       "    <tr>\n",
       "      <th>count</th>\n",
       "      <td>45211.000000</td>\n",
       "      <td>45211.000000</td>\n",
       "      <td>45211.000000</td>\n",
       "    </tr>\n",
       "    <tr>\n",
       "      <th>mean</th>\n",
       "      <td>40.936210</td>\n",
       "      <td>1362.272058</td>\n",
       "      <td>258.163080</td>\n",
       "    </tr>\n",
       "    <tr>\n",
       "      <th>std</th>\n",
       "      <td>10.618762</td>\n",
       "      <td>3044.765829</td>\n",
       "      <td>257.527812</td>\n",
       "    </tr>\n",
       "    <tr>\n",
       "      <th>min</th>\n",
       "      <td>18.000000</td>\n",
       "      <td>-8019.000000</td>\n",
       "      <td>0.000000</td>\n",
       "    </tr>\n",
       "    <tr>\n",
       "      <th>25%</th>\n",
       "      <td>33.000000</td>\n",
       "      <td>72.000000</td>\n",
       "      <td>103.000000</td>\n",
       "    </tr>\n",
       "    <tr>\n",
       "      <th>50%</th>\n",
       "      <td>39.000000</td>\n",
       "      <td>448.000000</td>\n",
       "      <td>180.000000</td>\n",
       "    </tr>\n",
       "    <tr>\n",
       "      <th>75%</th>\n",
       "      <td>48.000000</td>\n",
       "      <td>1428.000000</td>\n",
       "      <td>319.000000</td>\n",
       "    </tr>\n",
       "    <tr>\n",
       "      <th>max</th>\n",
       "      <td>95.000000</td>\n",
       "      <td>102127.000000</td>\n",
       "      <td>4918.000000</td>\n",
       "    </tr>\n",
       "  </tbody>\n",
       "</table>\n",
       "</div>"
      ],
      "text/plain": [
       "                age        balance      duration\n",
       "count  45211.000000   45211.000000  45211.000000\n",
       "mean      40.936210    1362.272058    258.163080\n",
       "std       10.618762    3044.765829    257.527812\n",
       "min       18.000000   -8019.000000      0.000000\n",
       "25%       33.000000      72.000000    103.000000\n",
       "50%       39.000000     448.000000    180.000000\n",
       "75%       48.000000    1428.000000    319.000000\n",
       "max       95.000000  102127.000000   4918.000000"
      ]
     },
     "execution_count": 4,
     "metadata": {},
     "output_type": "execute_result"
    }
   ],
   "source": [
    "df[['age', 'balance', 'duration']].describe()"
   ]
  },
  {
   "cell_type": "markdown",
   "id": "be34b70f",
   "metadata": {},
   "source": [
    "Este gráfico indica que:\n",
    "* Las edades de los clientes en más de un 75% son menores de 48 años\n",
    "* Los balances de los clientes en su mayoría son muy bajos el 50% de los casos está bajo 448 y el 75% bajo 1.428.\n",
    "* La duración de las llamadas en segundo en el 75% de los casos estuvo en torno a 319 segundos"
   ]
  },
  {
   "cell_type": "markdown",
   "id": "f6559dee",
   "metadata": {},
   "source": [
    "### Distribución tiempo de llamadas"
   ]
  },
  {
   "cell_type": "code",
   "execution_count": 5,
   "id": "1d74e456",
   "metadata": {},
   "outputs": [
    {
     "data": {
      "image/png": "[encoded data removed]",
      "text/plain": [
       "<Figure size 1080x576 with 1 Axes>"
      ]
     },
     "metadata": {
      "needs_background": "light"
     },
     "output_type": "display_data"
    }
   ],
   "source": [
    "plt.figure(figsize=(15,8))\n",
    "df['duration'].plot.hist(bins=20)\n",
    "plt.title('Distribución tiempo llamadas clientes segundos')\n",
    "plt.xlabel('Segundos')\n",
    "plt.ylabel('Frecuencia');"
   ]
  },
  {
   "cell_type": "code",
   "execution_count": 6,
   "id": "b36c32f4",
   "metadata": {},
   "outputs": [
    {
     "data": {
      "text/plain": [
       "count    45211.000000\n",
       "mean       258.163080\n",
       "std        257.527812\n",
       "min          0.000000\n",
       "25%        103.000000\n",
       "50%        180.000000\n",
       "75%        319.000000\n",
       "max       4918.000000\n",
       "Name: duration, dtype: float64"
      ]
     },
     "execution_count": 6,
     "metadata": {},
     "output_type": "execute_result"
    }
   ],
   "source": [
    "df['duration'].describe()"
   ]
  },
  {
   "cell_type": "markdown",
   "id": "edcafb9b",
   "metadata": {},
   "source": [
    "Este gráfico indica que:\n",
    "* La duración de las llamadas en segundo en el 75% de los casos estuvo en torno a 300 segundos,\n",
    "* Y que en la mitad de las llamadas la duración fue de 180 o menos segundos."
   ]
  },
  {
   "cell_type": "markdown",
   "id": "7b2f65d6",
   "metadata": {},
   "source": [
    "### Eficiencia de la campaña medido en el % de suscripciones"
   ]
  },
  {
   "cell_type": "code",
   "execution_count": 7,
   "id": "07f42716",
   "metadata": {},
   "outputs": [
    {
     "data": {
      "text/plain": [
       "no     39922\n",
       "yes     5289\n",
       "Name: y, dtype: int64"
      ]
     },
     "execution_count": 7,
     "metadata": {},
     "output_type": "execute_result"
    }
   ],
   "source": [
    "df['y'].value_counts()"
   ]
  },
  {
   "cell_type": "code",
   "execution_count": 8,
   "id": "b4bbe9a8",
   "metadata": {},
   "outputs": [
    {
     "data": {
      "image/png": "[encoded data removed]",
      "text/plain": [
       "<Figure size 432x288 with 1 Axes>"
      ]
     },
     "metadata": {},
     "output_type": "display_data"
    }
   ],
   "source": [
    "data = df['y'].value_counts()\n",
    "labels = ['No', 'Si']\n",
    "\n",
    "#define Seaborn color palette to use\n",
    "colors = sns.color_palette('pastel')\n",
    "\n",
    "#create pie chart\n",
    "plt.pie(data, labels = labels, colors = colors, autopct='%.0f%%')\n",
    "plt.show()"
   ]
  },
  {
   "cell_type": "markdown",
   "id": "5867f755",
   "metadata": {},
   "source": [
    "#### Este gráfico indica que la tasa de éxito de la campaña es de un 12%"
   ]
  },
  {
   "cell_type": "markdown",
   "id": "029557f6",
   "metadata": {},
   "source": [
    "## Cómo afecta la edad en los casos de éxito"
   ]
  },
  {
   "cell_type": "code",
   "execution_count": 9,
   "id": "221dca26",
   "metadata": {},
   "outputs": [
    {
     "data": {
      "text/plain": [
       "<AxesSubplot:xlabel='age', ylabel='y'>"
      ]
     },
     "execution_count": 9,
     "metadata": {},
     "output_type": "execute_result"
    },
    {
     "data": {
      "image/png": "[encoded data removed]",
      "text/plain": [
       "<Figure size 432x288 with 1 Axes>"
      ]
     },
     "metadata": {
      "needs_background": "light"
     },
     "output_type": "display_data"
    }
   ],
   "source": [
    "sns.boxplot(x=df['age'], y=df['y'], data=df)"
   ]
  },
  {
   "cell_type": "markdown",
   "id": "40afc003",
   "metadata": {},
   "source": [
    "Conclusiones del gráfico:\n",
    "* El rango de edades entre las personas que toman el servicio es levemente mayor."
   ]
  },
  {
   "cell_type": "markdown",
   "id": "25c6d267",
   "metadata": {},
   "source": [
    "## Cómo afecta la duración de las llamadas en los casos de éxito"
   ]
  },
  {
   "cell_type": "code",
   "execution_count": 10,
   "id": "38f17c24",
   "metadata": {},
   "outputs": [
    {
     "data": {
      "text/plain": [
       "<AxesSubplot:xlabel='duration', ylabel='y'>"
      ]
     },
     "execution_count": 10,
     "metadata": {},
     "output_type": "execute_result"
    },
    {
     "data": {
      "image/png": "[encoded data removed]",
      "text/plain": [
       "<Figure size 432x288 with 1 Axes>"
      ]
     },
     "metadata": {
      "needs_background": "light"
     },
     "output_type": "display_data"
    }
   ],
   "source": [
    "sns.boxplot(x=df['duration'], y=df['y'], data=df)"
   ]
  },
  {
   "cell_type": "code",
   "execution_count": 11,
   "id": "c8638e68",
   "metadata": {},
   "outputs": [
    {
     "data": {
      "text/html": [
       "<div>\n",
       "<style scoped>\n",
       "    .dataframe tbody tr th:only-of-type {\n",
       "        vertical-align: middle;\n",
       "    }\n",
       "\n",
       "    .dataframe tbody tr th {\n",
       "        vertical-align: top;\n",
       "    }\n",
       "\n",
       "    .dataframe thead th {\n",
       "        text-align: right;\n",
       "    }\n",
       "</style>\n",
       "<table border=\"1\" class=\"dataframe\">\n",
       "  <thead>\n",
       "    <tr style=\"text-align: right;\">\n",
       "      <th></th>\n",
       "      <th>duration</th>\n",
       "    </tr>\n",
       "  </thead>\n",
       "  <tbody>\n",
       "    <tr>\n",
       "      <th>count</th>\n",
       "      <td>5289.000000</td>\n",
       "    </tr>\n",
       "    <tr>\n",
       "      <th>mean</th>\n",
       "      <td>537.294574</td>\n",
       "    </tr>\n",
       "    <tr>\n",
       "      <th>std</th>\n",
       "      <td>392.525262</td>\n",
       "    </tr>\n",
       "    <tr>\n",
       "      <th>min</th>\n",
       "      <td>8.000000</td>\n",
       "    </tr>\n",
       "    <tr>\n",
       "      <th>25%</th>\n",
       "      <td>244.000000</td>\n",
       "    </tr>\n",
       "    <tr>\n",
       "      <th>50%</th>\n",
       "      <td>426.000000</td>\n",
       "    </tr>\n",
       "    <tr>\n",
       "      <th>75%</th>\n",
       "      <td>725.000000</td>\n",
       "    </tr>\n",
       "    <tr>\n",
       "      <th>max</th>\n",
       "      <td>3881.000000</td>\n",
       "    </tr>\n",
       "  </tbody>\n",
       "</table>\n",
       "</div>"
      ],
      "text/plain": [
       "          duration\n",
       "count  5289.000000\n",
       "mean    537.294574\n",
       "std     392.525262\n",
       "min       8.000000\n",
       "25%     244.000000\n",
       "50%     426.000000\n",
       "75%     725.000000\n",
       "max    3881.000000"
      ]
     },
     "execution_count": 11,
     "metadata": {},
     "output_type": "execute_result"
    }
   ],
   "source": [
    "df[(df['y']=='yes')][['duration','y']].describe()"
   ]
  },
  {
   "cell_type": "markdown",
   "id": "427c169b",
   "metadata": {},
   "source": [
    "Conclusiones del gráfico:\n",
    "* Las llamadas breves tienden a ser de casos no exitosos de venta.\n",
    "* Un 50% de las ventas provino de llamadas de 426 segundos y un 75% de las ventas proviene de llamadas de 725 segundos"
   ]
  },
  {
   "cell_type": "markdown",
   "id": "f5d99f56",
   "metadata": {},
   "source": [
    "## Cómo afecta la cantidad de llamadas (campaign) en los casos de éxito"
   ]
  },
  {
   "cell_type": "code",
   "execution_count": 12,
   "id": "f7ab58cd",
   "metadata": {},
   "outputs": [
    {
     "data": {
      "text/plain": [
       "<AxesSubplot:xlabel='campaign', ylabel='y'>"
      ]
     },
     "execution_count": 12,
     "metadata": {},
     "output_type": "execute_result"
    },
    {
     "data": {
      "image/png": "[encoded data removed]",
      "text/plain": [
       "<Figure size 432x288 with 1 Axes>"
      ]
     },
     "metadata": {
      "needs_background": "light"
     },
     "output_type": "display_data"
    }
   ],
   "source": [
    "sns.boxplot(x=df['campaign'], y=df['y'], data=df)"
   ]
  },
  {
   "cell_type": "code",
   "execution_count": 13,
   "id": "d6100a46",
   "metadata": {},
   "outputs": [
    {
     "data": {
      "text/html": [
       "<div>\n",
       "<style scoped>\n",
       "    .dataframe tbody tr th:only-of-type {\n",
       "        vertical-align: middle;\n",
       "    }\n",
       "\n",
       "    .dataframe tbody tr th {\n",
       "        vertical-align: top;\n",
       "    }\n",
       "\n",
       "    .dataframe thead th {\n",
       "        text-align: right;\n",
       "    }\n",
       "</style>\n",
       "<table border=\"1\" class=\"dataframe\">\n",
       "  <thead>\n",
       "    <tr style=\"text-align: right;\">\n",
       "      <th></th>\n",
       "      <th>campaign</th>\n",
       "      <th>balance</th>\n",
       "    </tr>\n",
       "  </thead>\n",
       "  <tbody>\n",
       "    <tr>\n",
       "      <th>count</th>\n",
       "      <td>5289.000000</td>\n",
       "      <td>5289.000000</td>\n",
       "    </tr>\n",
       "    <tr>\n",
       "      <th>mean</th>\n",
       "      <td>2.141047</td>\n",
       "      <td>1804.267915</td>\n",
       "    </tr>\n",
       "    <tr>\n",
       "      <th>std</th>\n",
       "      <td>1.921826</td>\n",
       "      <td>3501.104777</td>\n",
       "    </tr>\n",
       "    <tr>\n",
       "      <th>min</th>\n",
       "      <td>1.000000</td>\n",
       "      <td>-3058.000000</td>\n",
       "    </tr>\n",
       "    <tr>\n",
       "      <th>25%</th>\n",
       "      <td>1.000000</td>\n",
       "      <td>210.000000</td>\n",
       "    </tr>\n",
       "    <tr>\n",
       "      <th>50%</th>\n",
       "      <td>2.000000</td>\n",
       "      <td>733.000000</td>\n",
       "    </tr>\n",
       "    <tr>\n",
       "      <th>75%</th>\n",
       "      <td>3.000000</td>\n",
       "      <td>2159.000000</td>\n",
       "    </tr>\n",
       "    <tr>\n",
       "      <th>max</th>\n",
       "      <td>32.000000</td>\n",
       "      <td>81204.000000</td>\n",
       "    </tr>\n",
       "  </tbody>\n",
       "</table>\n",
       "</div>"
      ],
      "text/plain": [
       "          campaign       balance\n",
       "count  5289.000000   5289.000000\n",
       "mean      2.141047   1804.267915\n",
       "std       1.921826   3501.104777\n",
       "min       1.000000  -3058.000000\n",
       "25%       1.000000    210.000000\n",
       "50%       2.000000    733.000000\n",
       "75%       3.000000   2159.000000\n",
       "max      32.000000  81204.000000"
      ]
     },
     "execution_count": 13,
     "metadata": {},
     "output_type": "execute_result"
    }
   ],
   "source": [
    "df[(df['y']=='yes')][['campaign','y','balance']].describe()"
   ]
  },
  {
   "cell_type": "markdown",
   "id": "29838ba5",
   "metadata": {},
   "source": [
    "Conclusiones del gráfico:\n",
    "* El 50% de las ventas se logró sólo con 2 llamadas.\n",
    "* El 75% de las ventas se logró con 3 llamdas.\n",
    "* Asi mismo se nota que los clientes con mayor saldo mayor (balance > 733) requirieron más de 2 llamadas para suscribirse"
   ]
  },
  {
   "cell_type": "markdown",
   "id": "f7ccc3ea",
   "metadata": {},
   "source": [
    "## Cómo afecta la posesión de un préstamo para vivienda (housing) al éxito de la campaña?"
   ]
  },
  {
   "cell_type": "code",
   "execution_count": 14,
   "id": "f567b17c",
   "metadata": {},
   "outputs": [
    {
     "data": {
      "text/plain": [
       "housing  y  \n",
       "no       yes    3354\n",
       "yes      yes    1935\n",
       "dtype: int64"
      ]
     },
     "execution_count": 14,
     "metadata": {},
     "output_type": "execute_result"
    }
   ],
   "source": [
    "df[(df['y']=='yes')][['housing','y']].value_counts()"
   ]
  },
  {
   "cell_type": "code",
   "execution_count": 15,
   "id": "c25fb136",
   "metadata": {},
   "outputs": [
    {
     "data": {
      "text/html": [
       "<div>\n",
       "<style scoped>\n",
       "    .dataframe tbody tr th:only-of-type {\n",
       "        vertical-align: middle;\n",
       "    }\n",
       "\n",
       "    .dataframe tbody tr th {\n",
       "        vertical-align: top;\n",
       "    }\n",
       "\n",
       "    .dataframe thead th {\n",
       "        text-align: right;\n",
       "    }\n",
       "</style>\n",
       "<table border=\"1\" class=\"dataframe\">\n",
       "  <thead>\n",
       "    <tr style=\"text-align: right;\">\n",
       "      <th>y</th>\n",
       "      <th>no</th>\n",
       "      <th>yes</th>\n",
       "      <th>All</th>\n",
       "    </tr>\n",
       "    <tr>\n",
       "      <th>housing</th>\n",
       "      <th></th>\n",
       "      <th></th>\n",
       "      <th></th>\n",
       "    </tr>\n",
       "  </thead>\n",
       "  <tbody>\n",
       "    <tr>\n",
       "      <th>no</th>\n",
       "      <td>16727</td>\n",
       "      <td>3354</td>\n",
       "      <td>20081</td>\n",
       "    </tr>\n",
       "    <tr>\n",
       "      <th>yes</th>\n",
       "      <td>23195</td>\n",
       "      <td>1935</td>\n",
       "      <td>25130</td>\n",
       "    </tr>\n",
       "    <tr>\n",
       "      <th>All</th>\n",
       "      <td>39922</td>\n",
       "      <td>5289</td>\n",
       "      <td>45211</td>\n",
       "    </tr>\n",
       "  </tbody>\n",
       "</table>\n",
       "</div>"
      ],
      "text/plain": [
       "y           no   yes    All\n",
       "housing                    \n",
       "no       16727  3354  20081\n",
       "yes      23195  1935  25130\n",
       "All      39922  5289  45211"
      ]
     },
     "execution_count": 15,
     "metadata": {},
     "output_type": "execute_result"
    }
   ],
   "source": [
    "pd.crosstab(df.housing, df.y, margins=True)"
   ]
  },
  {
   "cell_type": "code",
   "execution_count": 16,
   "id": "5e3ee2ca",
   "metadata": {},
   "outputs": [
    {
     "data": {
      "image/png": "[encoded data removed]",
      "text/plain": [
       "<Figure size 1080x576 with 1 Axes>"
      ]
     },
     "metadata": {
      "needs_background": "light"
     },
     "output_type": "display_data"
    }
   ],
   "source": [
    "pd.crosstab(df.housing, df.y).plot(kind='bar',\n",
    "                                   color=['salmon', 'lightblue'],\n",
    "                                   figsize=(15, 8))\n",
    "plt.title('Relación prestamo vivienda y clientes que suscriben')\n",
    "plt.xlabel('no = No tiene Housing. Contrata servicio?(Si/No) / yes = Si tiene housing. Contrata servicio?(Si/No)')\n",
    "plt.ylabel('Cantidad de Personas')\n",
    "plt.legend(['No', 'Si']);"
   ]
  },
  {
   "cell_type": "markdown",
   "id": "50803b3f",
   "metadata": {},
   "source": [
    "Conclusiones del gráfico:\n",
    "\n",
    "* El prestamo para vivienda (housing) no es un factor relevante para éxito de la campaña, más bien en contrario.\n",
    "* Los clientes que si tienen housing y que contratan son 1935 mientras que los que NO tienen housing y contratan son 3354"
   ]
  },
  {
   "cell_type": "markdown",
   "id": "ecca351f",
   "metadata": {},
   "source": [
    "## Cómo afecta la cantidad el estado civil del cliente (marital) al éxito de la campaña?"
   ]
  },
  {
   "cell_type": "code",
   "execution_count": 17,
   "id": "3c262513",
   "metadata": {},
   "outputs": [
    {
     "data": {
      "text/plain": [
       "array(['married', 'single', 'divorced'], dtype=object)"
      ]
     },
     "execution_count": 17,
     "metadata": {},
     "output_type": "execute_result"
    }
   ],
   "source": [
    "df['marital'].unique()"
   ]
  },
  {
   "cell_type": "code",
   "execution_count": 18,
   "id": "58e6b0f3",
   "metadata": {},
   "outputs": [
    {
     "data": {
      "text/plain": [
       "marital   y  \n",
       "married   yes    2755\n",
       "single    yes    1912\n",
       "divorced  yes     622\n",
       "dtype: int64"
      ]
     },
     "execution_count": 18,
     "metadata": {},
     "output_type": "execute_result"
    }
   ],
   "source": [
    "df[(df['y']=='yes')][['marital','y']].value_counts()"
   ]
  },
  {
   "cell_type": "code",
   "execution_count": 19,
   "id": "1a549e95",
   "metadata": {},
   "outputs": [
    {
     "data": {
      "text/html": [
       "<div>\n",
       "<style scoped>\n",
       "    .dataframe tbody tr th:only-of-type {\n",
       "        vertical-align: middle;\n",
       "    }\n",
       "\n",
       "    .dataframe tbody tr th {\n",
       "        vertical-align: top;\n",
       "    }\n",
       "\n",
       "    .dataframe thead th {\n",
       "        text-align: right;\n",
       "    }\n",
       "</style>\n",
       "<table border=\"1\" class=\"dataframe\">\n",
       "  <thead>\n",
       "    <tr style=\"text-align: right;\">\n",
       "      <th>y</th>\n",
       "      <th>no</th>\n",
       "      <th>yes</th>\n",
       "      <th>All</th>\n",
       "    </tr>\n",
       "    <tr>\n",
       "      <th>marital</th>\n",
       "      <th></th>\n",
       "      <th></th>\n",
       "      <th></th>\n",
       "    </tr>\n",
       "  </thead>\n",
       "  <tbody>\n",
       "    <tr>\n",
       "      <th>divorced</th>\n",
       "      <td>4585</td>\n",
       "      <td>622</td>\n",
       "      <td>5207</td>\n",
       "    </tr>\n",
       "    <tr>\n",
       "      <th>married</th>\n",
       "      <td>24459</td>\n",
       "      <td>2755</td>\n",
       "      <td>27214</td>\n",
       "    </tr>\n",
       "    <tr>\n",
       "      <th>single</th>\n",
       "      <td>10878</td>\n",
       "      <td>1912</td>\n",
       "      <td>12790</td>\n",
       "    </tr>\n",
       "    <tr>\n",
       "      <th>All</th>\n",
       "      <td>39922</td>\n",
       "      <td>5289</td>\n",
       "      <td>45211</td>\n",
       "    </tr>\n",
       "  </tbody>\n",
       "</table>\n",
       "</div>"
      ],
      "text/plain": [
       "y            no   yes    All\n",
       "marital                     \n",
       "divorced   4585   622   5207\n",
       "married   24459  2755  27214\n",
       "single    10878  1912  12790\n",
       "All       39922  5289  45211"
      ]
     },
     "execution_count": 19,
     "metadata": {},
     "output_type": "execute_result"
    }
   ],
   "source": [
    "pd.crosstab(df.marital, df.y, margins=True)"
   ]
  },
  {
   "cell_type": "code",
   "execution_count": 20,
   "id": "d44c1a80",
   "metadata": {},
   "outputs": [
    {
     "data": {
      "image/png": "[encoded data removed]",
      "text/plain": [
       "<Figure size 1080x576 with 1 Axes>"
      ]
     },
     "metadata": {
      "needs_background": "light"
     },
     "output_type": "display_data"
    }
   ],
   "source": [
    "pd.crosstab(df.marital, df.y).plot(kind='bar',\n",
    "                                   color=['salmon', 'lightblue'],\n",
    "                                   figsize=(15, 8))\n",
    "plt.title('Relación estado civil y clientes que suscriben')\n",
    "plt.xlabel('divorced = Contrata servicio?(Si/No) / married = Contrata servicio?(Si/No) / single = Contrata servicio?(Si/No)')\n",
    "plt.ylabel('Cantidad de Personas')\n",
    "plt.legend(['No', 'Si']);"
   ]
  },
  {
   "cell_type": "markdown",
   "id": "3a59af31",
   "metadata": {},
   "source": [
    "Conclusiones del gráfico:\n",
    "\n",
    "* Los casados son los que más suscriben seguidos por los solteros y lejos en último lugar los divorciados."
   ]
  },
  {
   "cell_type": "markdown",
   "id": "b56c9856",
   "metadata": {},
   "source": [
    "## Cómo afecta que el cliente tenga inclumimiento en su préstamo (default) al éxito de la campaña?"
   ]
  },
  {
   "cell_type": "code",
   "execution_count": 21,
   "id": "72f2288f",
   "metadata": {},
   "outputs": [
    {
     "data": {
      "text/plain": [
       "default  y  \n",
       "no       yes    5237\n",
       "yes      yes      52\n",
       "dtype: int64"
      ]
     },
     "execution_count": 21,
     "metadata": {},
     "output_type": "execute_result"
    }
   ],
   "source": [
    "df[(df['y']=='yes')][['default','y']].value_counts()"
   ]
  },
  {
   "cell_type": "code",
   "execution_count": 22,
   "id": "07c03577",
   "metadata": {},
   "outputs": [
    {
     "data": {
      "text/html": [
       "<div>\n",
       "<style scoped>\n",
       "    .dataframe tbody tr th:only-of-type {\n",
       "        vertical-align: middle;\n",
       "    }\n",
       "\n",
       "    .dataframe tbody tr th {\n",
       "        vertical-align: top;\n",
       "    }\n",
       "\n",
       "    .dataframe thead th {\n",
       "        text-align: right;\n",
       "    }\n",
       "</style>\n",
       "<table border=\"1\" class=\"dataframe\">\n",
       "  <thead>\n",
       "    <tr style=\"text-align: right;\">\n",
       "      <th>y</th>\n",
       "      <th>no</th>\n",
       "      <th>yes</th>\n",
       "    </tr>\n",
       "    <tr>\n",
       "      <th>default</th>\n",
       "      <th></th>\n",
       "      <th></th>\n",
       "    </tr>\n",
       "  </thead>\n",
       "  <tbody>\n",
       "    <tr>\n",
       "      <th>no</th>\n",
       "      <td>39159</td>\n",
       "      <td>5237</td>\n",
       "    </tr>\n",
       "    <tr>\n",
       "      <th>yes</th>\n",
       "      <td>763</td>\n",
       "      <td>52</td>\n",
       "    </tr>\n",
       "  </tbody>\n",
       "</table>\n",
       "</div>"
      ],
      "text/plain": [
       "y           no   yes\n",
       "default             \n",
       "no       39159  5237\n",
       "yes        763    52"
      ]
     },
     "execution_count": 22,
     "metadata": {},
     "output_type": "execute_result"
    }
   ],
   "source": [
    "pd.crosstab(df.default, df.y)"
   ]
  },
  {
   "cell_type": "code",
   "execution_count": 23,
   "id": "db2497bd",
   "metadata": {},
   "outputs": [
    {
     "data": {
      "image/png": "[encoded data removed]",
      "text/plain": [
       "<Figure size 1080x576 with 1 Axes>"
      ]
     },
     "metadata": {
      "needs_background": "light"
     },
     "output_type": "display_data"
    }
   ],
   "source": [
    "pd.crosstab(df.default, df.y).plot(kind='bar',\n",
    "                                   color=['salmon', 'lightblue'],\n",
    "                                   figsize=(15, 8))\n",
    "plt.title('Relación cumplimiento (default) y clientes que suscriben')\n",
    "plt.xlabel('no = No tiene incumplimiento. Contrata servicio?(Si/No) / yes = Si tiene incumplimiento. Contrata servicio?(Si/No)')\n",
    "plt.ylabel('Cantidad de Personas')\n",
    "plt.legend(['No', 'Si']);"
   ]
  },
  {
   "cell_type": "markdown",
   "id": "01cdcf03",
   "metadata": {},
   "source": [
    "Conclusiones del gráfico:\n",
    "\n",
    "* La gran mayoria de los clientes que contratan no tienen incumplimientos (default) en sus préstamos.\n",
    "* Si bien hay clientes con default que contratan el servicio, la cantidad es muy baja en torno al 1% y por lo mismo podría tratarse de moras menores."
   ]
  },
  {
   "cell_type": "markdown",
   "id": "d52f1c56",
   "metadata": {},
   "source": [
    "### Distribución general de las variables numéricas"
   ]
  },
  {
   "cell_type": "code",
   "execution_count": 24,
   "id": "818508ce",
   "metadata": {},
   "outputs": [
    {
     "data": {
      "image/png": "[encoded data removed]",
      "text/plain": [
       "<Figure size 1296x864 with 9 Axes>"
      ]
     },
     "metadata": {
      "needs_background": "light"
     },
     "output_type": "display_data"
    }
   ],
   "source": [
    "df_numerico = df.select_dtypes(exclude = [\"object\"])\n",
    "df_numerico.hist(figsize=(18,12))\n",
    "plt.show()"
   ]
  },
  {
   "cell_type": "markdown",
   "id": "98febdb8",
   "metadata": {},
   "source": [
    "Este gráfico permite visualizar los histográmas de todas las variables numéricas de la data. "
   ]
  },
  {
   "cell_type": "markdown",
   "id": "3372f97f",
   "metadata": {},
   "source": [
    "### Preparación de datos para uso del modelo ML"
   ]
  },
  {
   "cell_type": "markdown",
   "id": "d2c71232",
   "metadata": {},
   "source": [
    "Detección de valores nulos"
   ]
  },
  {
   "cell_type": "code",
   "execution_count": 29,
   "id": "b57dba6e",
   "metadata": {},
   "outputs": [
    {
     "data": {
      "text/plain": [
       "age          0\n",
       "job          0\n",
       "marital      0\n",
       "education    0\n",
       "default      0\n",
       "balance      0\n",
       "housing      0\n",
       "loan         0\n",
       "contact      0\n",
       "day          0\n",
       "month        0\n",
       "duration     0\n",
       "campaign     0\n",
       "pdays        0\n",
       "previous     0\n",
       "poutcome     0\n",
       "y            0\n",
       "dtype: int64"
      ]
     },
     "execution_count": 29,
     "metadata": {},
     "output_type": "execute_result"
    }
   ],
   "source": [
    "df.isnull().sum()"
   ]
  },
  {
   "cell_type": "markdown",
   "id": "ac94213a",
   "metadata": {},
   "source": [
    "#### Revisión de valores únicos en variables categóricas"
   ]
  },
  {
   "cell_type": "code",
   "execution_count": 30,
   "id": "745f9e62",
   "metadata": {},
   "outputs": [],
   "source": [
    "def unicos(df):\n",
    "    dicc={}\n",
    "    for i in df.columns:\n",
    "        dicc[i]=df[i].unique()\n",
    "    return dicc"
   ]
  },
  {
   "cell_type": "code",
   "execution_count": 31,
   "id": "ec68acd9",
   "metadata": {},
   "outputs": [
    {
     "data": {
      "text/html": [
       "<div>\n",
       "<style scoped>\n",
       "    .dataframe tbody tr th:only-of-type {\n",
       "        vertical-align: middle;\n",
       "    }\n",
       "\n",
       "    .dataframe tbody tr th {\n",
       "        vertical-align: top;\n",
       "    }\n",
       "\n",
       "    .dataframe thead th {\n",
       "        text-align: right;\n",
       "    }\n",
       "</style>\n",
       "<table border=\"1\" class=\"dataframe\">\n",
       "  <thead>\n",
       "    <tr style=\"text-align: right;\">\n",
       "      <th></th>\n",
       "      <th>age</th>\n",
       "      <th>job</th>\n",
       "      <th>marital</th>\n",
       "      <th>education</th>\n",
       "      <th>default</th>\n",
       "      <th>balance</th>\n",
       "      <th>housing</th>\n",
       "      <th>loan</th>\n",
       "      <th>contact</th>\n",
       "      <th>day</th>\n",
       "      <th>month</th>\n",
       "      <th>duration</th>\n",
       "      <th>campaign</th>\n",
       "      <th>pdays</th>\n",
       "      <th>previous</th>\n",
       "      <th>poutcome</th>\n",
       "      <th>y</th>\n",
       "    </tr>\n",
       "  </thead>\n",
       "  <tbody>\n",
       "    <tr>\n",
       "      <th>0</th>\n",
       "      <td>58</td>\n",
       "      <td>management</td>\n",
       "      <td>married</td>\n",
       "      <td>tertiary</td>\n",
       "      <td>no</td>\n",
       "      <td>2143</td>\n",
       "      <td>yes</td>\n",
       "      <td>no</td>\n",
       "      <td>unknown</td>\n",
       "      <td>5</td>\n",
       "      <td>may</td>\n",
       "      <td>261</td>\n",
       "      <td>1</td>\n",
       "      <td>-1</td>\n",
       "      <td>0</td>\n",
       "      <td>unknown</td>\n",
       "      <td>no</td>\n",
       "    </tr>\n",
       "    <tr>\n",
       "      <th>1</th>\n",
       "      <td>44</td>\n",
       "      <td>technician</td>\n",
       "      <td>single</td>\n",
       "      <td>secondary</td>\n",
       "      <td>no</td>\n",
       "      <td>29</td>\n",
       "      <td>yes</td>\n",
       "      <td>no</td>\n",
       "      <td>unknown</td>\n",
       "      <td>5</td>\n",
       "      <td>may</td>\n",
       "      <td>151</td>\n",
       "      <td>1</td>\n",
       "      <td>-1</td>\n",
       "      <td>0</td>\n",
       "      <td>unknown</td>\n",
       "      <td>no</td>\n",
       "    </tr>\n",
       "    <tr>\n",
       "      <th>2</th>\n",
       "      <td>33</td>\n",
       "      <td>entrepreneur</td>\n",
       "      <td>married</td>\n",
       "      <td>secondary</td>\n",
       "      <td>no</td>\n",
       "      <td>2</td>\n",
       "      <td>yes</td>\n",
       "      <td>yes</td>\n",
       "      <td>unknown</td>\n",
       "      <td>5</td>\n",
       "      <td>may</td>\n",
       "      <td>76</td>\n",
       "      <td>1</td>\n",
       "      <td>-1</td>\n",
       "      <td>0</td>\n",
       "      <td>unknown</td>\n",
       "      <td>no</td>\n",
       "    </tr>\n",
       "    <tr>\n",
       "      <th>3</th>\n",
       "      <td>47</td>\n",
       "      <td>blue-collar</td>\n",
       "      <td>married</td>\n",
       "      <td>unknown</td>\n",
       "      <td>no</td>\n",
       "      <td>1506</td>\n",
       "      <td>yes</td>\n",
       "      <td>no</td>\n",
       "      <td>unknown</td>\n",
       "      <td>5</td>\n",
       "      <td>may</td>\n",
       "      <td>92</td>\n",
       "      <td>1</td>\n",
       "      <td>-1</td>\n",
       "      <td>0</td>\n",
       "      <td>unknown</td>\n",
       "      <td>no</td>\n",
       "    </tr>\n",
       "    <tr>\n",
       "      <th>4</th>\n",
       "      <td>33</td>\n",
       "      <td>unknown</td>\n",
       "      <td>single</td>\n",
       "      <td>unknown</td>\n",
       "      <td>no</td>\n",
       "      <td>1</td>\n",
       "      <td>no</td>\n",
       "      <td>no</td>\n",
       "      <td>unknown</td>\n",
       "      <td>5</td>\n",
       "      <td>may</td>\n",
       "      <td>198</td>\n",
       "      <td>1</td>\n",
       "      <td>-1</td>\n",
       "      <td>0</td>\n",
       "      <td>unknown</td>\n",
       "      <td>no</td>\n",
       "    </tr>\n",
       "  </tbody>\n",
       "</table>\n",
       "</div>"
      ],
      "text/plain": [
       "   age           job  marital  education default  balance housing loan  \\\n",
       "0   58    management  married   tertiary      no     2143     yes   no   \n",
       "1   44    technician   single  secondary      no       29     yes   no   \n",
       "2   33  entrepreneur  married  secondary      no        2     yes  yes   \n",
       "3   47   blue-collar  married    unknown      no     1506     yes   no   \n",
       "4   33       unknown   single    unknown      no        1      no   no   \n",
       "\n",
       "   contact  day month  duration  campaign  pdays  previous poutcome   y  \n",
       "0  unknown    5   may       261         1     -1         0  unknown  no  \n",
       "1  unknown    5   may       151         1     -1         0  unknown  no  \n",
       "2  unknown    5   may        76         1     -1         0  unknown  no  \n",
       "3  unknown    5   may        92         1     -1         0  unknown  no  \n",
       "4  unknown    5   may       198         1     -1         0  unknown  no  "
      ]
     },
     "execution_count": 31,
     "metadata": {},
     "output_type": "execute_result"
    }
   ],
   "source": [
    "df.head()"
   ]
  },
  {
   "cell_type": "code",
   "execution_count": 32,
   "id": "9fc0d7de",
   "metadata": {},
   "outputs": [],
   "source": [
    "cols_cat=['job','marital','education','default','housing','loan','contact','month','poutcome','y']"
   ]
  },
  {
   "cell_type": "code",
   "execution_count": 33,
   "id": "7db492ef",
   "metadata": {},
   "outputs": [],
   "source": [
    "unicosXcolumnaCategorica=unicos(df[cols_cat])"
   ]
  },
  {
   "cell_type": "code",
   "execution_count": 34,
   "id": "57470a2b",
   "metadata": {},
   "outputs": [
    {
     "data": {
      "text/plain": [
       "{'job': array(['management', 'technician', 'entrepreneur', 'blue-collar',\n",
       "        'unknown', 'retired', 'admin.', 'services', 'self-employed',\n",
       "        'unemployed', 'housemaid', 'student'], dtype=object),\n",
       " 'marital': array(['married', 'single', 'divorced'], dtype=object),\n",
       " 'education': array(['tertiary', 'secondary', 'unknown', 'primary'], dtype=object),\n",
       " 'default': array(['no', 'yes'], dtype=object),\n",
       " 'housing': array(['yes', 'no'], dtype=object),\n",
       " 'loan': array(['no', 'yes'], dtype=object),\n",
       " 'contact': array(['unknown', 'cellular', 'telephone'], dtype=object),\n",
       " 'month': array(['may', 'jun', 'jul', 'aug', 'oct', 'nov', 'dec', 'jan', 'feb',\n",
       "        'mar', 'apr', 'sep'], dtype=object),\n",
       " 'poutcome': array(['unknown', 'failure', 'other', 'success'], dtype=object),\n",
       " 'y': array(['no', 'yes'], dtype=object)}"
      ]
     },
     "execution_count": 34,
     "metadata": {},
     "output_type": "execute_result"
    }
   ],
   "source": [
    "unicosXcolumnaCategorica"
   ]
  },
  {
   "cell_type": "markdown",
   "id": "be5d0522",
   "metadata": {},
   "source": [
    "### Sobre las variables categóricas\n",
    "\n",
    "* Hay variables con valores binarios y otras con 3 a 4 opciones\n",
    "* Hay 10 columnas con variables categóricas\n",
    "* Dado el número de variables categóricas y el número de opciones de utilizará LabelEncoder\n",
    "* Se aplicará LabelEncoder a todas las variables categóricas"
   ]
  },
  {
   "cell_type": "markdown",
   "id": "b8c8f295",
   "metadata": {},
   "source": [
    "## Conversión de variables categóricas y selección conjunto de datos train y test"
   ]
  },
  {
   "cell_type": "code",
   "execution_count": 36,
   "id": "1b067e0d",
   "metadata": {},
   "outputs": [],
   "source": [
    "from sklearn.preprocessing import LabelEncoder"
   ]
  },
  {
   "cell_type": "code",
   "execution_count": 37,
   "id": "d83d0ab3",
   "metadata": {},
   "outputs": [],
   "source": [
    "encoder = LabelEncoder()"
   ]
  },
  {
   "cell_type": "code",
   "execution_count": 38,
   "id": "4549aeb0",
   "metadata": {},
   "outputs": [],
   "source": [
    "df[cols_cat]=df[cols_cat].apply(encoder.fit_transform)"
   ]
  },
  {
   "cell_type": "code",
   "execution_count": 39,
   "id": "d80da612",
   "metadata": {},
   "outputs": [
    {
     "data": {
      "text/html": [
       "<div>\n",
       "<style scoped>\n",
       "    .dataframe tbody tr th:only-of-type {\n",
       "        vertical-align: middle;\n",
       "    }\n",
       "\n",
       "    .dataframe tbody tr th {\n",
       "        vertical-align: top;\n",
       "    }\n",
       "\n",
       "    .dataframe thead th {\n",
       "        text-align: right;\n",
       "    }\n",
       "</style>\n",
       "<table border=\"1\" class=\"dataframe\">\n",
       "  <thead>\n",
       "    <tr style=\"text-align: right;\">\n",
       "      <th></th>\n",
       "      <th>age</th>\n",
       "      <th>job</th>\n",
       "      <th>marital</th>\n",
       "      <th>education</th>\n",
       "      <th>default</th>\n",
       "      <th>balance</th>\n",
       "      <th>housing</th>\n",
       "      <th>loan</th>\n",
       "      <th>contact</th>\n",
       "      <th>day</th>\n",
       "      <th>month</th>\n",
       "      <th>duration</th>\n",
       "      <th>campaign</th>\n",
       "      <th>pdays</th>\n",
       "      <th>previous</th>\n",
       "      <th>poutcome</th>\n",
       "      <th>y</th>\n",
       "    </tr>\n",
       "  </thead>\n",
       "  <tbody>\n",
       "    <tr>\n",
       "      <th>0</th>\n",
       "      <td>58</td>\n",
       "      <td>4</td>\n",
       "      <td>1</td>\n",
       "      <td>2</td>\n",
       "      <td>0</td>\n",
       "      <td>2143</td>\n",
       "      <td>1</td>\n",
       "      <td>0</td>\n",
       "      <td>2</td>\n",
       "      <td>5</td>\n",
       "      <td>8</td>\n",
       "      <td>261</td>\n",
       "      <td>1</td>\n",
       "      <td>-1</td>\n",
       "      <td>0</td>\n",
       "      <td>3</td>\n",
       "      <td>0</td>\n",
       "    </tr>\n",
       "    <tr>\n",
       "      <th>1</th>\n",
       "      <td>44</td>\n",
       "      <td>9</td>\n",
       "      <td>2</td>\n",
       "      <td>1</td>\n",
       "      <td>0</td>\n",
       "      <td>29</td>\n",
       "      <td>1</td>\n",
       "      <td>0</td>\n",
       "      <td>2</td>\n",
       "      <td>5</td>\n",
       "      <td>8</td>\n",
       "      <td>151</td>\n",
       "      <td>1</td>\n",
       "      <td>-1</td>\n",
       "      <td>0</td>\n",
       "      <td>3</td>\n",
       "      <td>0</td>\n",
       "    </tr>\n",
       "    <tr>\n",
       "      <th>2</th>\n",
       "      <td>33</td>\n",
       "      <td>2</td>\n",
       "      <td>1</td>\n",
       "      <td>1</td>\n",
       "      <td>0</td>\n",
       "      <td>2</td>\n",
       "      <td>1</td>\n",
       "      <td>1</td>\n",
       "      <td>2</td>\n",
       "      <td>5</td>\n",
       "      <td>8</td>\n",
       "      <td>76</td>\n",
       "      <td>1</td>\n",
       "      <td>-1</td>\n",
       "      <td>0</td>\n",
       "      <td>3</td>\n",
       "      <td>0</td>\n",
       "    </tr>\n",
       "    <tr>\n",
       "      <th>3</th>\n",
       "      <td>47</td>\n",
       "      <td>1</td>\n",
       "      <td>1</td>\n",
       "      <td>3</td>\n",
       "      <td>0</td>\n",
       "      <td>1506</td>\n",
       "      <td>1</td>\n",
       "      <td>0</td>\n",
       "      <td>2</td>\n",
       "      <td>5</td>\n",
       "      <td>8</td>\n",
       "      <td>92</td>\n",
       "      <td>1</td>\n",
       "      <td>-1</td>\n",
       "      <td>0</td>\n",
       "      <td>3</td>\n",
       "      <td>0</td>\n",
       "    </tr>\n",
       "    <tr>\n",
       "      <th>4</th>\n",
       "      <td>33</td>\n",
       "      <td>11</td>\n",
       "      <td>2</td>\n",
       "      <td>3</td>\n",
       "      <td>0</td>\n",
       "      <td>1</td>\n",
       "      <td>0</td>\n",
       "      <td>0</td>\n",
       "      <td>2</td>\n",
       "      <td>5</td>\n",
       "      <td>8</td>\n",
       "      <td>198</td>\n",
       "      <td>1</td>\n",
       "      <td>-1</td>\n",
       "      <td>0</td>\n",
       "      <td>3</td>\n",
       "      <td>0</td>\n",
       "    </tr>\n",
       "  </tbody>\n",
       "</table>\n",
       "</div>"
      ],
      "text/plain": [
       "   age  job  marital  education  default  balance  housing  loan  contact  \\\n",
       "0   58    4        1          2        0     2143        1     0        2   \n",
       "1   44    9        2          1        0       29        1     0        2   \n",
       "2   33    2        1          1        0        2        1     1        2   \n",
       "3   47    1        1          3        0     1506        1     0        2   \n",
       "4   33   11        2          3        0        1        0     0        2   \n",
       "\n",
       "   day  month  duration  campaign  pdays  previous  poutcome  y  \n",
       "0    5      8       261         1     -1         0         3  0  \n",
       "1    5      8       151         1     -1         0         3  0  \n",
       "2    5      8        76         1     -1         0         3  0  \n",
       "3    5      8        92         1     -1         0         3  0  \n",
       "4    5      8       198         1     -1         0         3  0  "
      ]
     },
     "execution_count": 39,
     "metadata": {},
     "output_type": "execute_result"
    }
   ],
   "source": [
    "df.head()"
   ]
  },
  {
   "cell_type": "code",
   "execution_count": 40,
   "id": "ac2ffa0d",
   "metadata": {},
   "outputs": [],
   "source": [
    "from sklearn.model_selection import train_test_split"
   ]
  },
  {
   "cell_type": "code",
   "execution_count": 41,
   "id": "36c5be7a",
   "metadata": {},
   "outputs": [],
   "source": [
    "x=df.loc[:, df.columns != 'y']\n",
    "y=df.loc[:,'y']"
   ]
  },
  {
   "cell_type": "code",
   "execution_count": 45,
   "id": "10ab0814",
   "metadata": {},
   "outputs": [
    {
     "name": "stdout",
     "output_type": "stream",
     "text": [
      "dimensiones X=(45211, 16) -- dimensiones Y=(45211,)\n"
     ]
    }
   ],
   "source": [
    "print(f'dimensiones X={x.shape} -- dimensiones Y={y.shape}')"
   ]
  },
  {
   "cell_type": "code",
   "execution_count": 42,
   "id": "77ca9f85",
   "metadata": {},
   "outputs": [],
   "source": [
    "x_train, x_test, y_train, y_test=train_test_split(x,y,random_state=123,test_size=0.3)"
   ]
  },
  {
   "cell_type": "code",
   "execution_count": 46,
   "id": "393743e4",
   "metadata": {},
   "outputs": [
    {
     "name": "stdout",
     "output_type": "stream",
     "text": [
      "dimensiones x_train=(31647, 16) -- dimensiones y_train=(31647,)\n"
     ]
    }
   ],
   "source": [
    "print(f'dimensiones x_train={x_train.shape} -- dimensiones y_train={y_train.shape}')"
   ]
  },
  {
   "cell_type": "code",
   "execution_count": 47,
   "id": "2444717f",
   "metadata": {},
   "outputs": [
    {
     "name": "stdout",
     "output_type": "stream",
     "text": [
      "dimensiones x_test=(13564, 16) -- dimensiones y_test=(13564,)\n"
     ]
    }
   ],
   "source": [
    "print(f'dimensiones x_test={x_test.shape} -- dimensiones y_test={y_test.shape}')"
   ]
  },
  {
   "cell_type": "markdown",
   "id": "ef0085d6",
   "metadata": {},
   "source": [
    "## Sobre el modelo de ML\n",
    "\n",
    "* Dado que el proyecto plantea una predicción de compra si/no, se aplicarán modelos de clasificación.\n",
    "* Como primer paso se aplicará la Regresion Logística\n",
    "* Se utilizará statsmodels, y la función Logit (para Reg.Logística), para features selection\n",
    "* Se aplicarán métricas pertenecientes a la Regresión Logística más la matríz de confusión\n",
    "* Se hará un data frame para mostrar los valores reales y los predichos por el modelo\n",
    "* Se hará una gráfica que muestre 2 curvas, la primera con valores reales (test) y los predichos por el modelo"
   ]
  },
  {
   "cell_type": "code",
   "execution_count": 43,
   "id": "7a415ecd",
   "metadata": {},
   "outputs": [
    {
     "name": "stdout",
     "output_type": "stream",
     "text": [
      "exactitud entrenamiento:  0.8913009131987234\n",
      "exactitud test:  0.8908876437629017\n",
      "exactitud valor cruzado:  0.8904478725842608\n"
     ]
    }
   ],
   "source": [
    "from sklearn.linear_model import LogisticRegression\n",
    "modelo=LogisticRegression(solver='lbfgs',max_iter=10000)\n",
    "modelo.fit(x_train, y_train)\n",
    "prediccion=modelo.predict(x_test)\n",
    "\n",
    "accTrain=modelo.score(x_train, y_train)\n",
    "accTest=modelo.score(x_test, y_test)\n",
    "print('exactitud entrenamiento: ',accTrain)\n",
    "print('exactitud test: ',accTest)\n",
    "\n",
    "from sklearn.model_selection import cross_val_score\n",
    "\n",
    "scores=cross_val_score(modelo, x_train, y_train, cv=20).mean()\n",
    "print('exactitud valor cruzado: ',scores)"
   ]
  },
  {
   "cell_type": "markdown",
   "id": "21dd2ac0",
   "metadata": {},
   "source": [
    "Como se puede ver luego de aplicar la Regresión Logística, el modelo con la data utilizada es capáz de predicir con un 89% de exactitud."
   ]
  },
  {
   "cell_type": "markdown",
   "id": "3cf0421d",
   "metadata": {},
   "source": [
    "### Selección de variables con statsmodels"
   ]
  },
  {
   "cell_type": "code",
   "execution_count": 44,
   "id": "20791ee6",
   "metadata": {},
   "outputs": [
    {
     "name": "stdout",
     "output_type": "stream",
     "text": [
      "Optimization terminated successfully.\n",
      "         Current function value: 0.267164\n",
      "         Iterations 8\n"
     ]
    },
    {
     "data": {
      "text/html": [
       "<table class=\"simpletable\">\n",
       "<caption>Logit Regression Results</caption>\n",
       "<tr>\n",
       "  <th>Dep. Variable:</th>           <td>y</td>        <th>  No. Observations:  </th>  <td> 31647</td> \n",
       "</tr>\n",
       "<tr>\n",
       "  <th>Model:</th>                 <td>Logit</td>      <th>  Df Residuals:      </th>  <td> 31630</td> \n",
       "</tr>\n",
       "<tr>\n",
       "  <th>Method:</th>                 <td>MLE</td>       <th>  Df Model:          </th>  <td>    16</td> \n",
       "</tr>\n",
       "<tr>\n",
       "  <th>Date:</th>            <td>Sun, 24 Jul 2022</td> <th>  Pseudo R-squ.:     </th>  <td>0.2624</td> \n",
       "</tr>\n",
       "<tr>\n",
       "  <th>Time:</th>                <td>21:12:39</td>     <th>  Log-Likelihood:    </th> <td> -8454.9</td>\n",
       "</tr>\n",
       "<tr>\n",
       "  <th>converged:</th>             <td>True</td>       <th>  LL-Null:           </th> <td> -11463.</td>\n",
       "</tr>\n",
       "<tr>\n",
       "  <th>Covariance Type:</th>     <td>nonrobust</td>    <th>  LLR p-value:       </th>  <td> 0.000</td> \n",
       "</tr>\n",
       "</table>\n",
       "<table class=\"simpletable\">\n",
       "<tr>\n",
       "      <td></td>         <th>coef</th>     <th>std err</th>      <th>z</th>      <th>P>|z|</th>  <th>[0.025</th>    <th>0.975]</th>  \n",
       "</tr>\n",
       "<tr>\n",
       "  <th>const</th>     <td>   -4.1506</td> <td>    0.175</td> <td>  -23.747</td> <td> 0.000</td> <td>   -4.493</td> <td>   -3.808</td>\n",
       "</tr>\n",
       "<tr>\n",
       "  <th>age</th>       <td>    0.0096</td> <td>    0.002</td> <td>    4.805</td> <td> 0.000</td> <td>    0.006</td> <td>    0.014</td>\n",
       "</tr>\n",
       "<tr>\n",
       "  <th>job</th>       <td>    0.0085</td> <td>    0.006</td> <td>    1.325</td> <td> 0.185</td> <td>   -0.004</td> <td>    0.021</td>\n",
       "</tr>\n",
       "<tr>\n",
       "  <th>marital</th>   <td>    0.2462</td> <td>    0.037</td> <td>    6.640</td> <td> 0.000</td> <td>    0.174</td> <td>    0.319</td>\n",
       "</tr>\n",
       "<tr>\n",
       "  <th>education</th> <td>    0.2294</td> <td>    0.028</td> <td>    8.329</td> <td> 0.000</td> <td>    0.175</td> <td>    0.283</td>\n",
       "</tr>\n",
       "<tr>\n",
       "  <th>default</th>   <td>   -0.4749</td> <td>    0.195</td> <td>   -2.432</td> <td> 0.015</td> <td>   -0.858</td> <td>   -0.092</td>\n",
       "</tr>\n",
       "<tr>\n",
       "  <th>balance</th>   <td> 1.899e-05</td> <td> 5.57e-06</td> <td>    3.411</td> <td> 0.001</td> <td> 8.08e-06</td> <td> 2.99e-05</td>\n",
       "</tr>\n",
       "<tr>\n",
       "  <th>housing</th>   <td>   -1.0225</td> <td>    0.045</td> <td>  -22.595</td> <td> 0.000</td> <td>   -1.111</td> <td>   -0.934</td>\n",
       "</tr>\n",
       "<tr>\n",
       "  <th>loan</th>      <td>   -0.6952</td> <td>    0.068</td> <td>  -10.210</td> <td> 0.000</td> <td>   -0.829</td> <td>   -0.562</td>\n",
       "</tr>\n",
       "<tr>\n",
       "  <th>contact</th>   <td>   -0.6568</td> <td>    0.032</td> <td>  -20.295</td> <td> 0.000</td> <td>   -0.720</td> <td>   -0.593</td>\n",
       "</tr>\n",
       "<tr>\n",
       "  <th>day</th>       <td>   -0.0056</td> <td>    0.002</td> <td>   -2.252</td> <td> 0.024</td> <td>   -0.010</td> <td>   -0.001</td>\n",
       "</tr>\n",
       "<tr>\n",
       "  <th>month</th>     <td>    0.0419</td> <td>    0.007</td> <td>    6.315</td> <td> 0.000</td> <td>    0.029</td> <td>    0.055</td>\n",
       "</tr>\n",
       "<tr>\n",
       "  <th>duration</th>  <td>    0.0039</td> <td> 7.27e-05</td> <td>   54.241</td> <td> 0.000</td> <td>    0.004</td> <td>    0.004</td>\n",
       "</tr>\n",
       "<tr>\n",
       "  <th>campaign</th>  <td>   -0.1358</td> <td>    0.012</td> <td>  -11.195</td> <td> 0.000</td> <td>   -0.160</td> <td>   -0.112</td>\n",
       "</tr>\n",
       "<tr>\n",
       "  <th>pdays</th>     <td>    0.0036</td> <td>    0.000</td> <td>   11.821</td> <td> 0.000</td> <td>    0.003</td> <td>    0.004</td>\n",
       "</tr>\n",
       "<tr>\n",
       "  <th>previous</th>  <td>    0.0844</td> <td>    0.010</td> <td>    8.600</td> <td> 0.000</td> <td>    0.065</td> <td>    0.104</td>\n",
       "</tr>\n",
       "<tr>\n",
       "  <th>poutcome</th>  <td>    0.2135</td> <td>    0.035</td> <td>    6.133</td> <td> 0.000</td> <td>    0.145</td> <td>    0.282</td>\n",
       "</tr>\n",
       "</table>"
      ],
      "text/plain": [
       "<class 'statsmodels.iolib.summary.Summary'>\n",
       "\"\"\"\n",
       "                           Logit Regression Results                           \n",
       "==============================================================================\n",
       "Dep. Variable:                      y   No. Observations:                31647\n",
       "Model:                          Logit   Df Residuals:                    31630\n",
       "Method:                           MLE   Df Model:                           16\n",
       "Date:                Sun, 24 Jul 2022   Pseudo R-squ.:                  0.2624\n",
       "Time:                        21:12:39   Log-Likelihood:                -8454.9\n",
       "converged:                       True   LL-Null:                       -11463.\n",
       "Covariance Type:            nonrobust   LLR p-value:                     0.000\n",
       "==============================================================================\n",
       "                 coef    std err          z      P>|z|      [0.025      0.975]\n",
       "------------------------------------------------------------------------------\n",
       "const         -4.1506      0.175    -23.747      0.000      -4.493      -3.808\n",
       "age            0.0096      0.002      4.805      0.000       0.006       0.014\n",
       "job            0.0085      0.006      1.325      0.185      -0.004       0.021\n",
       "marital        0.2462      0.037      6.640      0.000       0.174       0.319\n",
       "education      0.2294      0.028      8.329      0.000       0.175       0.283\n",
       "default       -0.4749      0.195     -2.432      0.015      -0.858      -0.092\n",
       "balance     1.899e-05   5.57e-06      3.411      0.001    8.08e-06    2.99e-05\n",
       "housing       -1.0225      0.045    -22.595      0.000      -1.111      -0.934\n",
       "loan          -0.6952      0.068    -10.210      0.000      -0.829      -0.562\n",
       "contact       -0.6568      0.032    -20.295      0.000      -0.720      -0.593\n",
       "day           -0.0056      0.002     -2.252      0.024      -0.010      -0.001\n",
       "month          0.0419      0.007      6.315      0.000       0.029       0.055\n",
       "duration       0.0039   7.27e-05     54.241      0.000       0.004       0.004\n",
       "campaign      -0.1358      0.012    -11.195      0.000      -0.160      -0.112\n",
       "pdays          0.0036      0.000     11.821      0.000       0.003       0.004\n",
       "previous       0.0844      0.010      8.600      0.000       0.065       0.104\n",
       "poutcome       0.2135      0.035      6.133      0.000       0.145       0.282\n",
       "==============================================================================\n",
       "\"\"\""
      ]
     },
     "execution_count": 44,
     "metadata": {},
     "output_type": "execute_result"
    }
   ],
   "source": [
    "#ahora se usará la librería statsmodels\n",
    "import statsmodels.api as sm\n",
    "\n",
    "x_m=sm.add_constant(x_train)\n",
    "logit=sm.Logit(y_train, x_m)\n",
    "resultado=logit.fit()\n",
    "resultado.summary()"
   ]
  },
  {
   "cell_type": "markdown",
   "id": "7201d9ed",
   "metadata": {},
   "source": [
    "### Resultados\n",
    "\n",
    "* La variable job no cumple con límite de p value\n",
    "* dado lo anterior se eliminará del modelo y se volverá a aplicar statsmodels"
   ]
  },
  {
   "cell_type": "code",
   "execution_count": 48,
   "id": "f3d2e792",
   "metadata": {},
   "outputs": [],
   "source": [
    "col=['job']"
   ]
  },
  {
   "cell_type": "code",
   "execution_count": 49,
   "id": "ce3117de",
   "metadata": {},
   "outputs": [
    {
     "name": "stdout",
     "output_type": "stream",
     "text": [
      "Optimization terminated successfully.\n",
      "         Current function value: 0.267191\n",
      "         Iterations 8\n"
     ]
    },
    {
     "data": {
      "text/html": [
       "<table class=\"simpletable\">\n",
       "<caption>Logit Regression Results</caption>\n",
       "<tr>\n",
       "  <th>Dep. Variable:</th>           <td>y</td>        <th>  No. Observations:  </th>  <td> 31647</td> \n",
       "</tr>\n",
       "<tr>\n",
       "  <th>Model:</th>                 <td>Logit</td>      <th>  Df Residuals:      </th>  <td> 31631</td> \n",
       "</tr>\n",
       "<tr>\n",
       "  <th>Method:</th>                 <td>MLE</td>       <th>  Df Model:          </th>  <td>    15</td> \n",
       "</tr>\n",
       "<tr>\n",
       "  <th>Date:</th>            <td>Sun, 24 Jul 2022</td> <th>  Pseudo R-squ.:     </th>  <td>0.2623</td> \n",
       "</tr>\n",
       "<tr>\n",
       "  <th>Time:</th>                <td>22:24:39</td>     <th>  Log-Likelihood:    </th> <td> -8455.8</td>\n",
       "</tr>\n",
       "<tr>\n",
       "  <th>converged:</th>             <td>True</td>       <th>  LL-Null:           </th> <td> -11463.</td>\n",
       "</tr>\n",
       "<tr>\n",
       "  <th>Covariance Type:</th>     <td>nonrobust</td>    <th>  LLR p-value:       </th>  <td> 0.000</td> \n",
       "</tr>\n",
       "</table>\n",
       "<table class=\"simpletable\">\n",
       "<tr>\n",
       "      <td></td>         <th>coef</th>     <th>std err</th>      <th>z</th>      <th>P>|z|</th>  <th>[0.025</th>    <th>0.975]</th>  \n",
       "</tr>\n",
       "<tr>\n",
       "  <th>const</th>     <td>   -4.1136</td> <td>    0.172</td> <td>  -23.854</td> <td> 0.000</td> <td>   -4.452</td> <td>   -3.776</td>\n",
       "</tr>\n",
       "<tr>\n",
       "  <th>age</th>       <td>    0.0096</td> <td>    0.002</td> <td>    4.789</td> <td> 0.000</td> <td>    0.006</td> <td>    0.013</td>\n",
       "</tr>\n",
       "<tr>\n",
       "  <th>marital</th>   <td>    0.2487</td> <td>    0.037</td> <td>    6.715</td> <td> 0.000</td> <td>    0.176</td> <td>    0.321</td>\n",
       "</tr>\n",
       "<tr>\n",
       "  <th>education</th> <td>    0.2334</td> <td>    0.027</td> <td>    8.528</td> <td> 0.000</td> <td>    0.180</td> <td>    0.287</td>\n",
       "</tr>\n",
       "<tr>\n",
       "  <th>default</th>   <td>   -0.4758</td> <td>    0.195</td> <td>   -2.438</td> <td> 0.015</td> <td>   -0.858</td> <td>   -0.093</td>\n",
       "</tr>\n",
       "<tr>\n",
       "  <th>balance</th>   <td> 1.898e-05</td> <td> 5.57e-06</td> <td>    3.410</td> <td> 0.001</td> <td> 8.07e-06</td> <td> 2.99e-05</td>\n",
       "</tr>\n",
       "<tr>\n",
       "  <th>housing</th>   <td>   -1.0285</td> <td>    0.045</td> <td>  -22.839</td> <td> 0.000</td> <td>   -1.117</td> <td>   -0.940</td>\n",
       "</tr>\n",
       "<tr>\n",
       "  <th>loan</th>      <td>   -0.6979</td> <td>    0.068</td> <td>  -10.253</td> <td> 0.000</td> <td>   -0.831</td> <td>   -0.564</td>\n",
       "</tr>\n",
       "<tr>\n",
       "  <th>contact</th>   <td>   -0.6582</td> <td>    0.032</td> <td>  -20.349</td> <td> 0.000</td> <td>   -0.722</td> <td>   -0.595</td>\n",
       "</tr>\n",
       "<tr>\n",
       "  <th>day</th>       <td>   -0.0055</td> <td>    0.002</td> <td>   -2.240</td> <td> 0.025</td> <td>   -0.010</td> <td>   -0.001</td>\n",
       "</tr>\n",
       "<tr>\n",
       "  <th>month</th>     <td>    0.0416</td> <td>    0.007</td> <td>    6.267</td> <td> 0.000</td> <td>    0.029</td> <td>    0.055</td>\n",
       "</tr>\n",
       "<tr>\n",
       "  <th>duration</th>  <td>    0.0039</td> <td> 7.27e-05</td> <td>   54.259</td> <td> 0.000</td> <td>    0.004</td> <td>    0.004</td>\n",
       "</tr>\n",
       "<tr>\n",
       "  <th>campaign</th>  <td>   -0.1358</td> <td>    0.012</td> <td>  -11.198</td> <td> 0.000</td> <td>   -0.160</td> <td>   -0.112</td>\n",
       "</tr>\n",
       "<tr>\n",
       "  <th>pdays</th>     <td>    0.0036</td> <td>    0.000</td> <td>   11.801</td> <td> 0.000</td> <td>    0.003</td> <td>    0.004</td>\n",
       "</tr>\n",
       "<tr>\n",
       "  <th>previous</th>  <td>    0.0845</td> <td>    0.010</td> <td>    8.612</td> <td> 0.000</td> <td>    0.065</td> <td>    0.104</td>\n",
       "</tr>\n",
       "<tr>\n",
       "  <th>poutcome</th>  <td>    0.2133</td> <td>    0.035</td> <td>    6.129</td> <td> 0.000</td> <td>    0.145</td> <td>    0.282</td>\n",
       "</tr>\n",
       "</table>"
      ],
      "text/plain": [
       "<class 'statsmodels.iolib.summary.Summary'>\n",
       "\"\"\"\n",
       "                           Logit Regression Results                           \n",
       "==============================================================================\n",
       "Dep. Variable:                      y   No. Observations:                31647\n",
       "Model:                          Logit   Df Residuals:                    31631\n",
       "Method:                           MLE   Df Model:                           15\n",
       "Date:                Sun, 24 Jul 2022   Pseudo R-squ.:                  0.2623\n",
       "Time:                        22:24:39   Log-Likelihood:                -8455.8\n",
       "converged:                       True   LL-Null:                       -11463.\n",
       "Covariance Type:            nonrobust   LLR p-value:                     0.000\n",
       "==============================================================================\n",
       "                 coef    std err          z      P>|z|      [0.025      0.975]\n",
       "------------------------------------------------------------------------------\n",
       "const         -4.1136      0.172    -23.854      0.000      -4.452      -3.776\n",
       "age            0.0096      0.002      4.789      0.000       0.006       0.013\n",
       "marital        0.2487      0.037      6.715      0.000       0.176       0.321\n",
       "education      0.2334      0.027      8.528      0.000       0.180       0.287\n",
       "default       -0.4758      0.195     -2.438      0.015      -0.858      -0.093\n",
       "balance     1.898e-05   5.57e-06      3.410      0.001    8.07e-06    2.99e-05\n",
       "housing       -1.0285      0.045    -22.839      0.000      -1.117      -0.940\n",
       "loan          -0.6979      0.068    -10.253      0.000      -0.831      -0.564\n",
       "contact       -0.6582      0.032    -20.349      0.000      -0.722      -0.595\n",
       "day           -0.0055      0.002     -2.240      0.025      -0.010      -0.001\n",
       "month          0.0416      0.007      6.267      0.000       0.029       0.055\n",
       "duration       0.0039   7.27e-05     54.259      0.000       0.004       0.004\n",
       "campaign      -0.1358      0.012    -11.198      0.000      -0.160      -0.112\n",
       "pdays          0.0036      0.000     11.801      0.000       0.003       0.004\n",
       "previous       0.0845      0.010      8.612      0.000       0.065       0.104\n",
       "poutcome       0.2133      0.035      6.129      0.000       0.145       0.282\n",
       "==============================================================================\n",
       "\"\"\""
      ]
     },
     "execution_count": 49,
     "metadata": {},
     "output_type": "execute_result"
    }
   ],
   "source": [
    "x_m = x_m.drop(columns=col)\n",
    "\n",
    "logit2=sm.Logit(y_train, x_m)\n",
    "resultado2=logit2.fit()\n",
    "resultado2.summary()"
   ]
  },
  {
   "cell_type": "markdown",
   "id": "32339a15",
   "metadata": {},
   "source": [
    "## Resultado 2do intento eliminando job\n",
    "\n",
    "* El resultado apenas varió disminuyendo muy levemente el Pseudo R-squ\n",
    "* Dado que el modelo no mejora al eliminar job, se continuará incorporando a la variable job\n"
   ]
  },
  {
   "cell_type": "code",
   "execution_count": 51,
   "id": "67b62027",
   "metadata": {},
   "outputs": [
    {
     "data": {
      "text/plain": [
       "array([0, 0, 0, ..., 0, 0, 0])"
      ]
     },
     "execution_count": 51,
     "metadata": {},
     "output_type": "execute_result"
    }
   ],
   "source": [
    "y_pred=modelo.predict(x_test)\n",
    "y_pred"
   ]
  },
  {
   "cell_type": "markdown",
   "id": "9cc5be30",
   "metadata": {},
   "source": [
    "## Visualización de valores predichos por el modelo versus valores reales (test)"
   ]
  },
  {
   "cell_type": "code",
   "execution_count": 52,
   "id": "2e4851ed",
   "metadata": {},
   "outputs": [
    {
     "data": {
      "text/html": [
       "<div>\n",
       "<style scoped>\n",
       "    .dataframe tbody tr th:only-of-type {\n",
       "        vertical-align: middle;\n",
       "    }\n",
       "\n",
       "    .dataframe tbody tr th {\n",
       "        vertical-align: top;\n",
       "    }\n",
       "\n",
       "    .dataframe thead th {\n",
       "        text-align: right;\n",
       "    }\n",
       "</style>\n",
       "<table border=\"1\" class=\"dataframe\">\n",
       "  <thead>\n",
       "    <tr style=\"text-align: right;\">\n",
       "      <th></th>\n",
       "      <th>prediccion</th>\n",
       "      <th>test</th>\n",
       "    </tr>\n",
       "  </thead>\n",
       "  <tbody>\n",
       "    <tr>\n",
       "      <th>7281</th>\n",
       "      <td>0</td>\n",
       "      <td>1</td>\n",
       "    </tr>\n",
       "    <tr>\n",
       "      <th>19469</th>\n",
       "      <td>0</td>\n",
       "      <td>0</td>\n",
       "    </tr>\n",
       "    <tr>\n",
       "      <th>31637</th>\n",
       "      <td>0</td>\n",
       "      <td>0</td>\n",
       "    </tr>\n",
       "    <tr>\n",
       "      <th>22484</th>\n",
       "      <td>0</td>\n",
       "      <td>0</td>\n",
       "    </tr>\n",
       "    <tr>\n",
       "      <th>35919</th>\n",
       "      <td>0</td>\n",
       "      <td>0</td>\n",
       "    </tr>\n",
       "    <tr>\n",
       "      <th>15644</th>\n",
       "      <td>0</td>\n",
       "      <td>0</td>\n",
       "    </tr>\n",
       "    <tr>\n",
       "      <th>12619</th>\n",
       "      <td>0</td>\n",
       "      <td>0</td>\n",
       "    </tr>\n",
       "    <tr>\n",
       "      <th>30249</th>\n",
       "      <td>0</td>\n",
       "      <td>0</td>\n",
       "    </tr>\n",
       "    <tr>\n",
       "      <th>11489</th>\n",
       "      <td>0</td>\n",
       "      <td>0</td>\n",
       "    </tr>\n",
       "    <tr>\n",
       "      <th>21513</th>\n",
       "      <td>0</td>\n",
       "      <td>0</td>\n",
       "    </tr>\n",
       "  </tbody>\n",
       "</table>\n",
       "</div>"
      ],
      "text/plain": [
       "       prediccion  test\n",
       "7281            0     1\n",
       "19469           0     0\n",
       "31637           0     0\n",
       "22484           0     0\n",
       "35919           0     0\n",
       "15644           0     0\n",
       "12619           0     0\n",
       "30249           0     0\n",
       "11489           0     0\n",
       "21513           0     0"
      ]
     },
     "execution_count": 52,
     "metadata": {},
     "output_type": "execute_result"
    }
   ],
   "source": [
    "compa=pd.DataFrame({'prediccion':y_pred, 'test':y_test}) #crear dataframe comparando resultado predicción vs test\n",
    "compa.head(10)"
   ]
  },
  {
   "cell_type": "markdown",
   "id": "8e8545ff",
   "metadata": {},
   "source": [
    "### Aplicando matriz de confusión"
   ]
  },
  {
   "cell_type": "code",
   "execution_count": 54,
   "id": "804d1196",
   "metadata": {},
   "outputs": [
    {
     "name": "stdout",
     "output_type": "stream",
     "text": [
      "[[11751   247]\n",
      " [ 1233   333]]\n"
     ]
    }
   ],
   "source": [
    "#ahora medir la calidad de la predicción con matriz de confusión para el 30% de los datos de prueba test\n",
    "#diagonal izq a der muestra datos asertados verdaderos positivos y falsos positivos\n",
    "#diagonal der a izq muestra errores 1233 falsos negativos y 333 falsos positivos. total 1480 errores\n",
    "from sklearn.metrics import confusion_matrix\n",
    "matriz=confusion_matrix(y_test, y_pred)\n",
    "print(matriz)"
   ]
  },
  {
   "cell_type": "code",
   "execution_count": 56,
   "id": "53384bca",
   "metadata": {},
   "outputs": [
    {
     "name": "stdout",
     "output_type": "stream",
     "text": [
      "0.8908876437629017\n"
     ]
    }
   ],
   "source": [
    "from sklearn.metrics import accuracy_score #ahora se medirá la precisión del modelo\n",
    "exactitud=accuracy_score(y_test, y_pred)\n",
    "print(exactitud) #esto indica que más del 89% de las predicciones son exactas"
   ]
  },
  {
   "cell_type": "markdown",
   "id": "032ceef2",
   "metadata": {},
   "source": [
    "## Gráfica predicción modelo versus test"
   ]
  },
  {
   "cell_type": "code",
   "execution_count": 57,
   "id": "d45e7806",
   "metadata": {},
   "outputs": [
    {
     "data": {
      "image/png": "[encoded data removed]",
      "text/plain": [
       "<Figure size 1080x576 with 1 Axes>"
      ]
     },
     "metadata": {
      "needs_background": "light"
     },
     "output_type": "display_data"
    }
   ],
   "source": [
    "def plot30(y_verd, y_pred): #funcion permite ver muestra con 30 datos para tener vista zoom\n",
    "    eje_x=list(range(30))\n",
    "    eje_y=y_test[:30]\n",
    "    eje_y2=y_pred[:30]\n",
    "    fig, ax=plt.subplots()\n",
    "    ax.plot(eje_x, eje_y, '-', eje_x, eje_y2, 'o')\n",
    "    fig.set_size_inches(15,8)\n",
    "\n",
    "plot30(y_test, y_pred)"
   ]
  },
  {
   "cell_type": "code",
   "execution_count": null,
   "id": "f8c42c52",
   "metadata": {},
   "outputs": [],
   "source": []
  }
 ],
 "metadata": {
  "kernelspec": {
   "display_name": "Python 3 (ipykernel)",
   "language": "python",
   "name": "python3"
  },
  "language_info": {
   "codemirror_mode": {
    "name": "ipython",
    "version": 3
   },
   "file_extension": ".py",
   "mimetype": "text/x-python",
   "name": "python",
   "nbconvert_exporter": "python",
   "pygments_lexer": "ipython3",
   "version": "3.8.12"
  }
 },
 "nbformat": 4,
 "nbformat_minor": 5
}
